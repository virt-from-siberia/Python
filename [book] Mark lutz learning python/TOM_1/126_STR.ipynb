{
 "cells": [
  {
   "attachments": {},
   "cell_type": "markdown",
   "metadata": {},
   "source": [
    "# Chapter 2\n",
    "\n",
    "**Типы и операции**\n",
    "\n"
   ]
  },
  {
   "attachments": {},
   "cell_type": "markdown",
   "metadata": {},
   "source": [
    "# 1. Программы состоят из модулей.\n",
    "2. Модули содержат операторы.\n",
    "3. Операторы содержат выражения.\n",
    "4. Выражения создают и обрабатывают объекты.\n"
   ]
  },
  {
   "attachments": {},
   "cell_type": "markdown",
   "metadata": {},
   "source": [
    "# Обзор встроенных типов объектов\n",
    "\n",
    "* [Числа]      1234, 3.1415, 3+4j, 0Ы11, Decimal (), Fraction ())\n",
    "\n",
    "* [Строки]     'spam’, \"Bob' s\", b’a\\x01c’, u’sp\\xc4m’)\n",
    "\n",
    "* [Списки]     [1, [2, ’three’], 4.5], list(range (10))\n",
    "\n",
    "* [Словари]    {’food’: 'spam', ’taste': 'yum’}, diet(hours=10)\n",
    "* [Кортежи]    (1, 'spam', 4, ’U’), tuple('spam’), namedtuple\n",
    "* [Файлы]      open('eggs.txt'), open(r’C:\\ham.bin', ' wb')\n",
    "* [Множества]  set('abc'), {'a', 'b', ’c'}\n",
    "\n",
    "\n"
   ]
  },
  {
   "cell_type": "code",
   "execution_count": 3,
   "metadata": {},
   "outputs": [
    {
     "data": {
      "text/plain": [
       "'SXYZm'"
      ]
     },
     "execution_count": 3,
     "metadata": {},
     "output_type": "execute_result"
    }
   ],
   "source": [
    "S = 'Spam'\n",
    "S.find('S')\n",
    "\n",
    "S.replace('pa', 'XYZ')"
   ]
  }
 ],
 "metadata": {
  "kernelspec": {
   "display_name": "Python 3",
   "language": "python",
   "name": "python3"
  },
  "language_info": {
   "codemirror_mode": {
    "name": "ipython",
    "version": 3
   },
   "file_extension": ".py",
   "mimetype": "text/x-python",
   "name": "python",
   "nbconvert_exporter": "python",
   "pygments_lexer": "ipython3",
   "version": "3.10.7"
  },
  "vscode": {
   "interpreter": {
    "hash": "369f2c481f4da34e4445cda3fffd2e751bd1c4d706f27375911949ba6bb62e1c"
   }
  }
 },
 "nbformat": 4,
 "nbformat_minor": 2
}
