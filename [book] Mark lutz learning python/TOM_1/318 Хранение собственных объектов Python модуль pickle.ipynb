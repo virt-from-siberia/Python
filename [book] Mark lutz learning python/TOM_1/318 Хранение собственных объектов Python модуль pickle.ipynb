{
 "cells": [
  {
   "attachments": {},
   "cell_type": "markdown",
   "metadata": {},
   "source": [
    "# Chapter 9 Хранение собственных объектов Python: модуль pickle"
   ]
  },
  {
   "cell_type": "code",
   "execution_count": 2,
   "metadata": {},
   "outputs": [],
   "source": [
    "import pickle\n",
    "\n",
    "D = {'а': 1, 'Ь': 2}\n",
    "F = open('datafile.pkl', 'wb')\n"
   ]
  },
  {
   "cell_type": "code",
   "execution_count": 3,
   "metadata": {},
   "outputs": [],
   "source": [
    "pickle.dump(D, F)\n",
    "F.close()\n"
   ]
  },
  {
   "cell_type": "code",
   "execution_count": 4,
   "metadata": {},
   "outputs": [
    {
     "data": {
      "text/plain": [
       "{'а': 1, 'Ь': 2}"
      ]
     },
     "execution_count": 4,
     "metadata": {},
     "output_type": "execute_result"
    }
   ],
   "source": [
    "F = open(\"datafile.pkl\", \"rb\")\n",
    "E = pickle.load(F)\n",
    "E\n"
   ]
  }
 ],
 "metadata": {
  "kernelspec": {
   "display_name": "Python 3",
   "language": "python",
   "name": "python3"
  },
  "language_info": {
   "codemirror_mode": {
    "name": "ipython",
    "version": 3
   },
   "file_extension": ".py",
   "mimetype": "text/x-python",
   "name": "python",
   "nbconvert_exporter": "python",
   "pygments_lexer": "ipython3",
   "version": "3.10.10"
  },
  "vscode": {
   "interpreter": {
    "hash": "4ebe715e750cdf4f2a1c3f1383136725e4b01f7fe7cd36f16bc58189cc870d32"
   }
  }
 },
 "nbformat": 4,
 "nbformat_minor": 2
}
