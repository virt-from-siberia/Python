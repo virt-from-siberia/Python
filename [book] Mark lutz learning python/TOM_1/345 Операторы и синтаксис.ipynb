{
 "cells": [
  {
   "attachments": {},
   "cell_type": "markdown",
   "metadata": {},
   "source": [
    "# Chapter 10 Операторы и синтаксис\n"
   ]
  },
  {
   "cell_type": "code",
   "execution_count": 2,
   "metadata": {},
   "outputs": [
    {
     "name": "stdout",
     "output_type": "stream",
     "text": [
      "9\n",
      "Bye\n"
     ]
    }
   ],
   "source": [
    "while True:\n",
    "    reply = input('Enter text:')\n",
    "    if reply == 'stop':\n",
    "        break\n",
    "    print(int(reply) ** 2)\n",
    "\n",
    "print('Bye')\n"
   ]
  },
  {
   "cell_type": "code",
   "execution_count": 3,
   "metadata": {},
   "outputs": [
    {
     "name": "stdout",
     "output_type": "stream",
     "text": [
      "Bad\n",
      "10\n",
      "Bye\n"
     ]
    }
   ],
   "source": [
    "while True:\n",
    "    reply = input('Enter text:')\n",
    "    if reply == 'stop':\n",
    "        break\n",
    "    elif not reply.isdigit():\n",
    "        print('Bad')\n",
    "    else:\n",
    "        print(int(reply) * 2)\n",
    "\n",
    "print('Bye')\n"
   ]
  }
 ],
 "metadata": {
  "kernelspec": {
   "display_name": "Python 3",
   "language": "python",
   "name": "python3"
  },
  "language_info": {
   "codemirror_mode": {
    "name": "ipython",
    "version": 3
   },
   "file_extension": ".py",
   "mimetype": "text/x-python",
   "name": "python",
   "nbconvert_exporter": "python",
   "pygments_lexer": "ipython3",
   "version": "3.10.10"
  },
  "vscode": {
   "interpreter": {
    "hash": "4ebe715e750cdf4f2a1c3f1383136725e4b01f7fe7cd36f16bc58189cc870d32"
   }
  }
 },
 "nbformat": 4,
 "nbformat_minor": 2
}
