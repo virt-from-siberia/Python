{
 "cells": [
  {
   "attachments": {},
   "cell_type": "markdown",
   "metadata": {},
   "source": [
    "# Chapter 13 Операторы break, continue, passи конструкция else цикла\n"
   ]
  },
  {
   "cell_type": "code",
   "execution_count": 1,
   "metadata": {},
   "outputs": [
    {
     "name": "stdout",
     "output_type": "stream",
     "text": [
      "86420"
     ]
    }
   ],
   "source": [
    "x = 10\n",
    "while x:\n",
    "    x = x - 1\n",
    "    if x % 2 != 0:\n",
    "        continue\n",
    "    print(x, end='')\n"
   ]
  },
  {
   "cell_type": "code",
   "execution_count": 4,
   "metadata": {},
   "outputs": [
    {
     "name": "stdout",
     "output_type": "stream",
     "text": [
      "Hello Aleksey => 1369\n"
     ]
    }
   ],
   "source": [
    "while True:\n",
    "    name = input('Enter name')\n",
    "    if name == 'stop':\n",
    "        break\n",
    "    age = input('Enter age')\n",
    "    print('Hello', name, '=>', int(age) ** 2)\n"
   ]
  },
  {
   "cell_type": "code",
   "execution_count": null,
   "metadata": {},
   "outputs": [],
   "source": [
    "found = False\n",
    "while x and not found:\n",
    "    print('omg')\n"
   ]
  }
 ],
 "metadata": {
  "kernelspec": {
   "display_name": "Python 3",
   "language": "python",
   "name": "python3"
  },
  "language_info": {
   "codemirror_mode": {
    "name": "ipython",
    "version": 3
   },
   "file_extension": ".py",
   "mimetype": "text/x-python",
   "name": "python",
   "nbconvert_exporter": "python",
   "pygments_lexer": "ipython3",
   "version": "3.10.10"
  },
  "vscode": {
   "interpreter": {
    "hash": "4ebe715e750cdf4f2a1c3f1383136725e4b01f7fe7cd36f16bc58189cc870d32"
   }
  }
 },
 "nbformat": 4,
 "nbformat_minor": 2
}
