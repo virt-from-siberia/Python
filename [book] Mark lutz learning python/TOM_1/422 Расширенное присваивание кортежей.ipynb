{
 "cells": [
  {
   "attachments": {},
   "cell_type": "markdown",
   "metadata": {},
   "source": [
    "# Chapter 13 422 Расширенное присваивание кортежей\n"
   ]
  },
  {
   "cell_type": "code",
   "execution_count": 1,
   "metadata": {},
   "outputs": [
    {
     "data": {
      "text/plain": [
       "(1, 2, 3)"
      ]
     },
     "execution_count": 1,
     "metadata": {},
     "output_type": "execute_result"
    }
   ],
   "source": [
    "a, b, c = (1, 2, 3)\n",
    "a, b, c\n"
   ]
  },
  {
   "cell_type": "code",
   "execution_count": 2,
   "metadata": {},
   "outputs": [
    {
     "name": "stdout",
     "output_type": "stream",
     "text": [
      "1 2 3\n",
      "4 5 6\n"
     ]
    }
   ],
   "source": [
    "for (a, b, c) in [(1, 2, 3), (4, 5, 6)]:\n",
    "    print(a, b, c)\n"
   ]
  },
  {
   "cell_type": "code",
   "execution_count": 4,
   "metadata": {},
   "outputs": [
    {
     "ename": "ValueError",
     "evalue": "too many values to unpack (expected 3)",
     "output_type": "error",
     "traceback": [
      "\u001b[1;31m---------------------------------------------------------------------------\u001b[0m",
      "\u001b[1;31mValueError\u001b[0m                                Traceback (most recent call last)",
      "Cell \u001b[1;32mIn[4], line 2\u001b[0m\n\u001b[0;32m      1\u001b[0m \u001b[39mfor\u001b[39;00m \u001b[39mall\u001b[39m \u001b[39min\u001b[39;00m [(\u001b[39m1\u001b[39m, \u001b[39m2\u001b[39m, \u001b[39m3\u001b[39m, \u001b[39m4\u001b[39m), (\u001b[39m5\u001b[39m, \u001b[39m6\u001b[39m, \u001b[39m7\u001b[39m, \u001b[39m8\u001b[39m)]:\n\u001b[1;32m----> 2\u001b[0m     a, b, c \u001b[39m=\u001b[39m \u001b[39mall\u001b[39m[\u001b[39m0\u001b[39m], \u001b[39mall\u001b[39m[\u001b[39m1\u001b[39m], \u001b[39mall\u001b[39m[\u001b[39m1\u001b[39m:\u001b[39m3\u001b[39m], \u001b[39mall\u001b[39m[\u001b[39m3\u001b[39m]\n\u001b[0;32m      3\u001b[0m     \u001b[39mprint\u001b[39m(a, b, c)\n",
      "\u001b[1;31mValueError\u001b[0m: too many values to unpack (expected 3)"
     ]
    }
   ],
   "source": [
    "for all in [(1, 2, 3, 4), (5, 6, 7, 8)]:\n",
    "    a, b, c = all[0], all[1], all[1:3], all[3]\n",
    "    print(a, b, c)\n"
   ]
  },
  {
   "cell_type": "code",
   "execution_count": 7,
   "metadata": {},
   "outputs": [
    {
     "name": "stdout",
     "output_type": "stream",
     "text": [
      "(4, 5) was found\n",
      "3.14 was not found\n"
     ]
    }
   ],
   "source": [
    "items = ['aaa', 111, (4, 5), 2.01]\n",
    "tests = [(4, 5), 3.14]\n",
    "\n",
    "for key in tests:\n",
    "    for item in items:\n",
    "        if item == key:\n",
    "            print(key, \"was found\")\n",
    "            break\n",
    "    else:\n",
    "        print(key, \"was not found\")\n"
   ]
  },
  {
   "cell_type": "code",
   "execution_count": 8,
   "metadata": {},
   "outputs": [
    {
     "name": "stdout",
     "output_type": "stream",
     "text": [
      "(4, 5) was found\n",
      "3.14 was not found\n"
     ]
    }
   ],
   "source": [
    "for key in tests:\n",
    "    if key in items:\n",
    "        print(key, \"was found\")\n",
    "    else:\n",
    "        print(key, \"was not found\")\n"
   ]
  },
  {
   "cell_type": "code",
   "execution_count": 10,
   "metadata": {},
   "outputs": [
    {
     "data": {
      "text/plain": [
       "['s', 'a', 'm']"
      ]
     },
     "execution_count": 10,
     "metadata": {},
     "output_type": "execute_result"
    }
   ],
   "source": [
    "seq1 = 'spam'\n",
    "seq2 = 'scam'\n",
    "\n",
    "rec = []\n",
    "\n",
    "for x in seq1:\n",
    "    if x in seq2:\n",
    "        rec.append(x)\n",
    "\n",
    "rec\n"
   ]
  },
  {
   "cell_type": "code",
   "execution_count": 11,
   "metadata": {},
   "outputs": [
    {
     "data": {
      "text/plain": [
       "['s', 'a', 'm']"
      ]
     },
     "execution_count": 11,
     "metadata": {},
     "output_type": "execute_result"
    }
   ],
   "source": [
    "[x for x in seq1 if x in seq2]\n"
   ]
  },
  {
   "cell_type": "code",
   "execution_count": 14,
   "metadata": {},
   "outputs": [
    {
     "name": "stdout",
     "output_type": "stream",
     "text": [
      "H\n",
      "e\n",
      "l\n",
      "l\n",
      "o\n",
      " \n",
      "w\n",
      "o\n",
      "r\n",
      "l\n",
      "d\n",
      "\n",
      "\n",
      "H\n",
      "e\n",
      "l\n",
      "l\n",
      "o\n",
      " \n",
      "w\n",
      "o\n",
      "r\n",
      "l\n",
      "d\n",
      "\n",
      "\n"
     ]
    }
   ],
   "source": [
    "file = open('text.txt')\n",
    "\n",
    "while True:\n",
    "    char = file.read(1)\n",
    "    if not char:\n",
    "        break\n",
    "    print(char)\n",
    "\n",
    "\n",
    "for char in open('text.txt').read():\n",
    "    print(char)\n"
   ]
  },
  {
   "cell_type": "code",
   "execution_count": 15,
   "metadata": {},
   "outputs": [
    {
     "name": "stdout",
     "output_type": "stream",
     "text": [
      "H\n",
      "e\n",
      "l\n",
      "l\n",
      "o\n",
      "\n",
      "w\n",
      "o\n",
      "r\n",
      "l\n",
      "d\n",
      "\n"
     ]
    }
   ],
   "source": [
    "for line in open('text.txt').readline():\n",
    "    print(line.rstrip())\n"
   ]
  },
  {
   "cell_type": "code",
   "execution_count": 16,
   "metadata": {},
   "outputs": [
    {
     "name": "stdout",
     "output_type": "stream",
     "text": [
      "['Hello', 'world']\n"
     ]
    }
   ],
   "source": [
    "for line in open('text.txt'):\n",
    "    print(line.rsplit())\n"
   ]
  }
 ],
 "metadata": {
  "kernelspec": {
   "display_name": "Python 3",
   "language": "python",
   "name": "python3"
  },
  "language_info": {
   "codemirror_mode": {
    "name": "ipython",
    "version": 3
   },
   "file_extension": ".py",
   "mimetype": "text/x-python",
   "name": "python",
   "nbconvert_exporter": "python",
   "pygments_lexer": "ipython3",
   "version": "3.10.10"
  },
  "vscode": {
   "interpreter": {
    "hash": "4ebe715e750cdf4f2a1c3f1383136725e4b01f7fe7cd36f16bc58189cc870d32"
   }
  }
 },
 "nbformat": 4,
 "nbformat_minor": 2
}
