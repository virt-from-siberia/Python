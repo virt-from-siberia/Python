{
 "cells": [
  {
   "cell_type": "code",
   "execution_count": null,
   "metadata": {},
   "outputs": [],
   "source": [
    "board = ['', '', '', '', '', '', '', '', '']"
   ]
  },
  {
   "cell_type": "code",
   "execution_count": null,
   "metadata": {},
   "outputs": [],
   "source": [
    "def print_state(state):\n",
    "    for i, c in enumerate(state):\n",
    "        if (i+1) % 3 == 0:\n",
    "            print(f'{c}')\n",
    "        else:\n",
    "            print(f'{c}|', end='')"
   ]
  },
  {
   "cell_type": "code",
   "execution_count": null,
   "metadata": {},
   "outputs": [],
   "source": [
    "print_state(board)"
   ]
  },
  {
   "cell_type": "code",
   "execution_count": null,
   "metadata": {},
   "outputs": [],
   "source": [
    "winning_combinations = [(0,1,2),(3,4,5),(6,7,8),(0,3,6),(1,4,7),(2,5,8),(0,4,8),(2,4,6)]\n",
    "def get_winner(state, combinations):\n",
    "    for (x, y, z) in combinations:\n",
    "        if state[x] == state[y] and state[y] == state[z] and (state[x] == 'X' or state[x] == 'O'):\n",
    "            return state[x]\n",
    "    return ''"
   ]
  },
  {
   "cell_type": "code",
   "execution_count": null,
   "metadata": {},
   "outputs": [],
   "source": [
    "def play_game(board):\n",
    "    current_sign = 'X'\n",
    "    while(get_winner(board, winning_combinations)==''):\n",
    "        index = int(input(f'Where you want to draw {current_sign}?'))\n",
    "        board[index] = current_sign\n",
    "        \n",
    "        print_state(board)\n",
    "        \n",
    "        winner_sign = get_winner(board, winning_combinations)\n",
    "        if winner_sign != '':\n",
    "            print(f'We have a winner:{winner_sign}')        \n",
    "        \n",
    "        current_sign = 'X' if current_sign == 'O' else 'X' "
   ]
  },
  {
   "cell_type": "code",
   "execution_count": null,
   "metadata": {},
   "outputs": [],
   "source": [
    "play_game(board)"
   ]
  },
  {
   "cell_type": "code",
   "execution_count": null,
   "metadata": {},
   "outputs": [],
   "source": []
  }
 ],
 "metadata": {
  "kernelspec": {
   "display_name": "Python 3",
   "language": "python",
   "name": "python3"
  },
  "language_info": {
   "codemirror_mode": {
    "name": "ipython",
    "version": 3
   },
   "file_extension": ".py",
   "mimetype": "text/x-python",
   "name": "python",
   "nbconvert_exporter": "python",
   "pygments_lexer": "ipython3",
   "version": "3.7.1"
  }
 },
 "nbformat": 4,
 "nbformat_minor": 2
}
