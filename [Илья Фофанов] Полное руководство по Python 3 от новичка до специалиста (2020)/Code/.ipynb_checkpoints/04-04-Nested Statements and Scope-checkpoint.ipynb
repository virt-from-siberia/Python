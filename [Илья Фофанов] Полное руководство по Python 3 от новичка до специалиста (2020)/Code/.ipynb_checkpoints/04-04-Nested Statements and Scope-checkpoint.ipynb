{
 "cells": [
  {
   "cell_type": "markdown",
   "metadata": {},
   "source": [
    "LEGB Rule:\n",
    "\n",
    "L: Local — Names assigned in any way within a function (def or lambda), and not declared global in that function.\n",
    "\n",
    "E: Enclosing function locals — Names in the local scope of any and all enclosing functions (def or lambda), from inner to outer.\n",
    "\n",
    "G: Global (module) — Names assigned at the top-level of a module file, or declared global in a def within the file.\n",
    "\n",
    "B: Built-in (Python) — Names preassigned in the built-in names module : open, range, SyntaxError,..."
   ]
  },
  {
   "cell_type": "code",
   "execution_count": 10,
   "metadata": {},
   "outputs": [
    {
     "name": "stdout",
     "output_type": "stream",
     "text": [
      "Hello from the global scope\n",
      "Hello from the global scope\n"
     ]
    }
   ],
   "source": [
    "greeting = \"Hello from the global scope\"\n",
    "\n",
    "def greet():\n",
    "    #greeting = \"Hello from enclosing scope\"\n",
    "    \n",
    "    def nested():\n",
    "        #greeting = \"Hello from local scope\"\n",
    "        print(greeting)    \n",
    "    nested()\n",
    "\n",
    "result = greet()\n",
    "\n",
    "print(greeting)\n",
    "result"
   ]
  },
  {
   "cell_type": "code",
   "execution_count": 6,
   "metadata": {},
   "outputs": [],
   "source": [
    "#comment the innermost, then level above, and above"
   ]
  },
  {
   "cell_type": "code",
   "execution_count": 7,
   "metadata": {},
   "outputs": [],
   "source": [
    "#list = don't override and don't assign"
   ]
  },
  {
   "cell_type": "code",
   "execution_count": 11,
   "metadata": {},
   "outputs": [
    {
     "name": "stdout",
     "output_type": "stream",
     "text": [
      "Greet in func:test\n",
      "Greet in func:Hello from enclosing scope\n",
      "Hello from local scope\n",
      "Hello from the global scope\n"
     ]
    }
   ],
   "source": [
    "greeting = \"Hello from the global scope\"\n",
    "\n",
    "def greet(greeting):\n",
    "    print(f'Greet in func:{greeting}')\n",
    "    \n",
    "    greeting = \"Hello from enclosing scope\"\n",
    "    \n",
    "    print(f'Greet in func:{greeting}')\n",
    "    \n",
    "    def nested():\n",
    "        greeting = \"Hello from local scope\"\n",
    "        print(greeting)    \n",
    "    nested()\n",
    "\n",
    "result = greet(\"test\")\n",
    "\n",
    "result\n",
    "print(greeting)"
   ]
  },
  {
   "cell_type": "code",
   "execution_count": 15,
   "metadata": {},
   "outputs": [
    {
     "name": "stdout",
     "output_type": "stream",
     "text": [
      "Greet in func:Hello from the global scope\n",
      "Greet in func:Hello from enclosing scope\n",
      "Hello from local scope\n",
      "Hello from enclosing scope\n"
     ]
    }
   ],
   "source": [
    "greeting = \"Hello from the global scope\"\n",
    "\n",
    "def greet():\n",
    "    global greeting\n",
    "    print(f'Greet in func:{greeting}')\n",
    "    \n",
    "    greeting = \"Hello from enclosing scope\"\n",
    "    \n",
    "    print(f'Greet in func:{greeting}')\n",
    "    \n",
    "    def nested():\n",
    "        greeting = \"Hello from local scope\"\n",
    "        print(greeting)    \n",
    "    nested()\n",
    "\n",
    "result = greet()\n",
    "\n",
    "result\n",
    "print(greeting)\n",
    "\n",
    "#can't have argument and global for the same name\n",
    "#avoid using global keyword and use global variables as rarely as possible"
   ]
  },
  {
   "cell_type": "code",
   "execution_count": null,
   "metadata": {},
   "outputs": [],
   "source": [
    "#if you need to change a value, use a function and return from it new value, don't use globals\n",
    "#when a global variable is used from different place, then there is a high change of spoiling it unintentionally"
   ]
  }
 ],
 "metadata": {
  "kernelspec": {
   "display_name": "Python 3",
   "language": "python",
   "name": "python3"
  },
  "language_info": {
   "codemirror_mode": {
    "name": "ipython",
    "version": 3
   },
   "file_extension": ".py",
   "mimetype": "text/x-python",
   "name": "python",
   "nbconvert_exporter": "python",
   "pygments_lexer": "ipython3",
   "version": "3.7.1"
  }
 },
 "nbformat": 4,
 "nbformat_minor": 2
}
