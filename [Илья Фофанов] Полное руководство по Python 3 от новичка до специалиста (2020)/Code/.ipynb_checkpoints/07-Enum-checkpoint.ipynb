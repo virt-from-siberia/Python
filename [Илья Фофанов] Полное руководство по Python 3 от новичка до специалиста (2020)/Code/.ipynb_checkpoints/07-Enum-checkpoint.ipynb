{
 "cells": [
  {
   "cell_type": "code",
   "execution_count": 1,
   "metadata": {},
   "outputs": [],
   "source": [
    "from enum import Enum"
   ]
  },
  {
   "cell_type": "code",
   "execution_count": 4,
   "metadata": {},
   "outputs": [],
   "source": [
    "class TrafficLight(Enum):\n",
    "    RED = 1\n",
    "    YELLOW = 2\n",
    "    GREEN = 3"
   ]
  },
  {
   "cell_type": "code",
   "execution_count": 5,
   "metadata": {},
   "outputs": [
    {
     "data": {
      "text/plain": [
       "<TrafficLight.RED: 1>"
      ]
     },
     "execution_count": 5,
     "metadata": {},
     "output_type": "execute_result"
    }
   ],
   "source": [
    "TrafficLight.RED"
   ]
  },
  {
   "cell_type": "code",
   "execution_count": 6,
   "metadata": {},
   "outputs": [
    {
     "name": "stdout",
     "output_type": "stream",
     "text": [
      "TrafficLight.RED\n"
     ]
    }
   ],
   "source": [
    "print(TrafficLight.RED)"
   ]
  },
  {
   "cell_type": "code",
   "execution_count": 7,
   "metadata": {},
   "outputs": [
    {
     "name": "stdout",
     "output_type": "stream",
     "text": [
      "RED\n",
      "1\n"
     ]
    }
   ],
   "source": [
    "print(TrafficLight.RED.name)\n",
    "print(TrafficLight.RED.value)"
   ]
  },
  {
   "cell_type": "code",
   "execution_count": 8,
   "metadata": {},
   "outputs": [
    {
     "name": "stdout",
     "output_type": "stream",
     "text": [
      "TrafficLight.RED\n",
      "TrafficLight.YELLOW\n",
      "TrafficLight.GREEN\n"
     ]
    }
   ],
   "source": [
    "for c in TrafficLight:\n",
    "    print(c)"
   ]
  },
  {
   "cell_type": "code",
   "execution_count": 9,
   "metadata": {},
   "outputs": [
    {
     "data": {
      "text/plain": [
       "<TrafficLight.RED: 1>"
      ]
     },
     "execution_count": 9,
     "metadata": {},
     "output_type": "execute_result"
    }
   ],
   "source": [
    "TrafficLight(1)"
   ]
  },
  {
   "cell_type": "code",
   "execution_count": 10,
   "metadata": {},
   "outputs": [
    {
     "data": {
      "text/plain": [
       "<TrafficLight.RED: 1>"
      ]
     },
     "execution_count": 10,
     "metadata": {},
     "output_type": "execute_result"
    }
   ],
   "source": [
    "TrafficLight['RED']"
   ]
  },
  {
   "cell_type": "code",
   "execution_count": 12,
   "metadata": {},
   "outputs": [
    {
     "name": "stdout",
     "output_type": "stream",
     "text": [
      "True\n",
      "False\n"
     ]
    }
   ],
   "source": [
    "print(TrafficLight.RED == TrafficLight.RED)\n",
    "print(TrafficLight.GREEN == TrafficLight.RED)"
   ]
  },
  {
   "cell_type": "code",
   "execution_count": 16,
   "metadata": {},
   "outputs": [],
   "source": [
    "from enum import IntEnum"
   ]
  },
  {
   "cell_type": "code",
   "execution_count": 17,
   "metadata": {},
   "outputs": [],
   "source": [
    "class Priority(IntEnum):\n",
    "    LOW = 1\n",
    "    NORMAL = 2\n",
    "    HIGH = 3"
   ]
  },
  {
   "cell_type": "code",
   "execution_count": 18,
   "metadata": {},
   "outputs": [
    {
     "data": {
      "text/plain": [
       "True"
      ]
     },
     "execution_count": 18,
     "metadata": {},
     "output_type": "execute_result"
    }
   ],
   "source": [
    "Priority.LOW < Priority.NORMAL"
   ]
  },
  {
   "cell_type": "code",
   "execution_count": 19,
   "metadata": {},
   "outputs": [],
   "source": [
    "from enum import IntFlag"
   ]
  },
  {
   "cell_type": "code",
   "execution_count": 22,
   "metadata": {},
   "outputs": [],
   "source": [
    "class Color(IntFlag):\n",
    "    RED = 1\n",
    "    GREEN = 2\n",
    "    BLUE = 4"
   ]
  },
  {
   "cell_type": "code",
   "execution_count": 28,
   "metadata": {},
   "outputs": [
    {
     "data": {
      "text/plain": [
       "<Color.GREEN|RED: 3>"
      ]
     },
     "execution_count": 28,
     "metadata": {},
     "output_type": "execute_result"
    }
   ],
   "source": [
    "combination = Color.RED | Color.GREEN\n",
    "combination"
   ]
  },
  {
   "cell_type": "code",
   "execution_count": 29,
   "metadata": {},
   "outputs": [
    {
     "data": {
      "text/plain": [
       "True"
      ]
     },
     "execution_count": 29,
     "metadata": {},
     "output_type": "execute_result"
    }
   ],
   "source": [
    "Color.RED in combination"
   ]
  },
  {
   "cell_type": "code",
   "execution_count": 30,
   "metadata": {},
   "outputs": [
    {
     "data": {
      "text/plain": [
       "False"
      ]
     },
     "execution_count": 30,
     "metadata": {},
     "output_type": "execute_result"
    }
   ],
   "source": [
    "#bool(Color.RED & Color.GREEN) - show or not?"
   ]
  },
  {
   "cell_type": "code",
   "execution_count": 31,
   "metadata": {},
   "outputs": [
    {
     "data": {
      "text/plain": [
       "True"
      ]
     },
     "execution_count": 31,
     "metadata": {},
     "output_type": "execute_result"
    }
   ],
   "source": [
    "#bool(Color.RED | Color.GREEN) - show or not?"
   ]
  },
  {
   "cell_type": "code",
   "execution_count": null,
   "metadata": {},
   "outputs": [],
   "source": [
    ">>> class Planet(Enum):\n",
    "...     MERCURY = (3.303e+23, 2.4397e6)\n",
    "...     VENUS   = (4.869e+24, 6.0518e6)\n",
    "...     EARTH   = (5.976e+24, 6.37814e6)\n",
    "...     MARS    = (6.421e+23, 3.3972e6)\n",
    "...     JUPITER = (1.9e+27,   7.1492e7)\n",
    "...     SATURN  = (5.688e+26, 6.0268e7)\n",
    "...     URANUS  = (8.686e+25, 2.5559e7)\n",
    "...     NEPTUNE = (1.024e+26, 2.4746e7)\n",
    "...     def __init__(self, mass, radius):\n",
    "...         self.mass = mass       # in kilograms\n",
    "...         self.radius = radius   # in meters\n",
    "...     @property\n",
    "...     def surface_gravity(self):\n",
    "...         # universal gravitational constant  (m3 kg-1 s-2)\n",
    "...         G = 6.67300E-11\n",
    "...         return G * self.mass / (self.radius * self.radius)\n",
    "...\n",
    ">>> Planet.EARTH.value\n",
    "(5.976e+24, 6378140.0)\n",
    ">>> Planet.EARTH.surface_gravity\n",
    "9.802652743337129"
   ]
  }
 ],
 "metadata": {
  "kernelspec": {
   "display_name": "Python 3",
   "language": "python",
   "name": "python3"
  },
  "language_info": {
   "codemirror_mode": {
    "name": "ipython",
    "version": 3
   },
   "file_extension": ".py",
   "mimetype": "text/x-python",
   "name": "python",
   "nbconvert_exporter": "python",
   "pygments_lexer": "ipython3",
   "version": "3.7.1"
  }
 },
 "nbformat": 4,
 "nbformat_minor": 2
}
