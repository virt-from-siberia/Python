{
 "cells": [
  {
   "cell_type": "code",
   "execution_count": 1,
   "metadata": {},
   "outputs": [
    {
     "name": "stdout",
     "output_type": "stream",
     "text": [
      "True\n",
      "False\n",
      "False\n",
      "True\n"
     ]
    }
   ],
   "source": [
    "2.0==2\n",
    "6/2==3\n",
    "10/3==3.3\n",
    "10/3\n",
    "\n",
    "import math\n",
    "a = 10/3\n",
    "b = 3.3\n",
    "print(math.isclose(a, b, rel_tol=1e-1))\n",
    "print(math.isclose(a, b, rel_tol=1e-2))\n",
    "print(math.isclose(a, b, abs_tol=0.00002))\n",
    "print(math.isclose(a, b, abs_tol=0.1))\n",
    "\n"
   ]
  },
  {
   "cell_type": "code",
   "execution_count": null,
   "metadata": {},
   "outputs": [],
   "source": []
  }
 ],
 "metadata": {
  "kernelspec": {
   "display_name": "Python 3",
   "language": "python",
   "name": "python3"
  },
  "language_info": {
   "codemirror_mode": {
    "name": "ipython",
    "version": 3
   },
   "file_extension": ".py",
   "mimetype": "text/x-python",
   "name": "python",
   "nbconvert_exporter": "python",
   "pygments_lexer": "ipython3",
   "version": "3.7.1"
  }
 },
 "nbformat": 4,
 "nbformat_minor": 2
}
