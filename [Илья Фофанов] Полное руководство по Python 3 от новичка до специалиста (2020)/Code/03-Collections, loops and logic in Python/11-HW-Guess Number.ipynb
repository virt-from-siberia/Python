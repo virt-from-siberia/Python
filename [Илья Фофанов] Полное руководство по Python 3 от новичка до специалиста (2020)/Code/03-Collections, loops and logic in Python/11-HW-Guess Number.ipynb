{
 "cells": [
  {
   "cell_type": "code",
   "execution_count": 1,
   "metadata": {},
   "outputs": [
    {
     "name": "stdout",
     "output_type": "stream",
     "text": [
      "Hmmm... Try to guess what number between 1 and 50 I was thinking about :)\n",
      "Take a guess: 25\n",
      "Your guess is too low\n",
      "Take a guess: 37\n",
      "Yout guess is too high\n",
      "Take a guess: 33\n",
      "Yout guess is too high\n",
      "Take a guess: 29\n",
      "Your guess is too low\n",
      "Take a guess: 31\n",
      "Congratulations! You guessed my number in 5 guesses.\n"
     ]
    }
   ],
   "source": [
    "import random\n",
    "\n",
    "tries = 0\n",
    "\n",
    "number = random.randint(1, 50)\n",
    "\n",
    "print('Hmmm... Try to guess what number between 1 and 50 I was thinking about :)')\n",
    "\n",
    "while tries < 6:\n",
    "    guess = int(input('Take a guess: '))\n",
    "    \n",
    "    tries+=1\n",
    "    \n",
    "    if guess < number:\n",
    "        print('Your guess is too low')\n",
    "        \n",
    "    if guess > number:\n",
    "        print('Yout guess is too high')\n",
    "        \n",
    "    if guess == number:\n",
    "        print(f'Congratulations! You guessed my number in {tries} guesses.')\n",
    "        break\n",
    "        \n",
    "    if guess != number and tries == 6:\n",
    "        print(f\"Sorry, but you didn't make it. My number was: {number}\")\n",
    "        break"
   ]
  },
  {
   "cell_type": "code",
   "execution_count": null,
   "metadata": {},
   "outputs": [],
   "source": []
  },
  {
   "cell_type": "code",
   "execution_count": null,
   "metadata": {},
   "outputs": [],
   "source": []
  }
 ],
 "metadata": {
  "kernelspec": {
   "display_name": "Python 3",
   "language": "python",
   "name": "python3"
  },
  "language_info": {
   "codemirror_mode": {
    "name": "ipython",
    "version": 3
   },
   "file_extension": ".py",
   "mimetype": "text/x-python",
   "name": "python",
   "nbconvert_exporter": "python",
   "pygments_lexer": "ipython3",
   "version": "3.7.1"
  }
 },
 "nbformat": 4,
 "nbformat_minor": 2
}
