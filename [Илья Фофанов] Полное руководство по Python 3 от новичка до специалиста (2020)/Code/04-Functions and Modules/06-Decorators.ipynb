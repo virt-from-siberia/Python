{
 "cells": [
  {
   "cell_type": "code",
   "execution_count": 7,
   "metadata": {},
   "outputs": [
    {
     "name": "stdout",
     "output_type": "stream",
     "text": [
      "Hello, world!\n"
     ]
    }
   ],
   "source": [
    "def hello_world():\n",
    "    print('Hello, world!')\n",
    "hello_world()"
   ]
  },
  {
   "cell_type": "code",
   "execution_count": 8,
   "metadata": {},
   "outputs": [
    {
     "name": "stdout",
     "output_type": "stream",
     "text": [
      "Hello, world!\n"
     ]
    }
   ],
   "source": [
    "hello2 = hello_world\n",
    "hello2()"
   ]
  },
  {
   "cell_type": "code",
   "execution_count": 9,
   "metadata": {},
   "outputs": [],
   "source": [
    "#return func from func"
   ]
  },
  {
   "cell_type": "code",
   "execution_count": 10,
   "metadata": {},
   "outputs": [],
   "source": [
    "#pass in a func as an arg"
   ]
  },
  {
   "cell_type": "code",
   "execution_count": 22,
   "metadata": {},
   "outputs": [],
   "source": [
    "def log_decorator(func):\n",
    "    def wrap():\n",
    "        print(f'Calling func {func}')\n",
    "        func()\n",
    "        print(f'Func {func} finished its work')\n",
    "    return wrap"
   ]
  },
  {
   "cell_type": "code",
   "execution_count": 23,
   "metadata": {},
   "outputs": [],
   "source": [
    "def hello():\n",
    "    print('hello, world!')"
   ]
  },
  {
   "cell_type": "code",
   "execution_count": 24,
   "metadata": {},
   "outputs": [
    {
     "name": "stdout",
     "output_type": "stream",
     "text": [
      "Calling func <function hello at 0x000001B98FDBE840>\n",
      "hello, world!\n",
      "Func <function hello at 0x000001B98FDBE840> finished its work\n"
     ]
    }
   ],
   "source": [
    "wrapped_by_logger = log_decorator(hello)\n",
    "wrapped_by_logger()"
   ]
  },
  {
   "cell_type": "code",
   "execution_count": 25,
   "metadata": {},
   "outputs": [],
   "source": [
    "@log_decorator\n",
    "def hello():\n",
    "    print('hello, world!')"
   ]
  },
  {
   "cell_type": "code",
   "execution_count": 26,
   "metadata": {},
   "outputs": [
    {
     "name": "stdout",
     "output_type": "stream",
     "text": [
      "Calling func <function hello at 0x000001B9902D5048>\n",
      "hello, world!\n",
      "Func <function hello at 0x000001B9902D5048> finished its work\n"
     ]
    }
   ],
   "source": [
    "hello()"
   ]
  },
  {
   "cell_type": "code",
   "execution_count": 1,
   "metadata": {},
   "outputs": [],
   "source": [
    "#decorators are used by frameworks extensively, that's why it's important to understand what they are in essence"
   ]
  },
  {
   "cell_type": "code",
   "execution_count": 9,
   "metadata": {},
   "outputs": [],
   "source": [
    "from timeit import default_timer as timer\n",
    "import math\n",
    "import time\n",
    "\n",
    "def measure_exectime(func):\n",
    "    def inner(*args, **kwargs):\n",
    "        start = timer()\n",
    "        \n",
    "        func(*args, **kwargs)\n",
    "        \n",
    "        end = timer()\n",
    "        \n",
    "        print(f'Function {func.__name__} took {end-start} for execution')\n",
    "    return inner\n",
    "\n",
    "@measure_exectime\n",
    "def factorial(num):\n",
    "    time.sleep(3)\n",
    "    print(math.factorial(num))"
   ]
  },
  {
   "cell_type": "code",
   "execution_count": 11,
   "metadata": {},
   "outputs": [
    {
     "name": "stdout",
     "output_type": "stream",
     "text": [
      "93326215443944152681699238856266700490715968264381621468592963895217599993229915608941463976156518286253697920827223758251185210916864000000000000000000000000\n",
      "Function factorial took 3.000847571999998 for execution\n"
     ]
    }
   ],
   "source": [
    "factorial(100)"
   ]
  },
  {
   "cell_type": "code",
   "execution_count": null,
   "metadata": {},
   "outputs": [],
   "source": []
  }
 ],
 "metadata": {
  "kernelspec": {
   "display_name": "Python 3",
   "language": "python",
   "name": "python3"
  },
  "language_info": {
   "codemirror_mode": {
    "name": "ipython",
    "version": 3
   },
   "file_extension": ".py",
   "mimetype": "text/x-python",
   "name": "python",
   "nbconvert_exporter": "python",
   "pygments_lexer": "ipython3",
   "version": "3.7.1"
  }
 },
 "nbformat": 4,
 "nbformat_minor": 2
}
