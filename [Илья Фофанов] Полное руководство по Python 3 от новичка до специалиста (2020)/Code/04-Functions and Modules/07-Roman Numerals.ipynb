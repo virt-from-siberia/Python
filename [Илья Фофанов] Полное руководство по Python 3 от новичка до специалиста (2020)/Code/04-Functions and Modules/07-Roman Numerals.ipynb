{
 "cells": [
  {
   "cell_type": "code",
   "execution_count": 1,
   "metadata": {},
   "outputs": [],
   "source": [
    "romans = dict(I=1, V=5, X=10, L=50, C=100, D=500, M=1000)\n",
    "def parse_roman(arabic):\n",
    "    result = 0\n",
    "    for i, c in enumerate(arabic):\n",
    "        if i+1<len(arabic) and romans[arabic[i]] < romans[arabic[i+1]]:\n",
    "            result-=romans[arabic[i]]\n",
    "        else:\n",
    "            result+=romans[arabic[i]]\n",
    "    return result"
   ]
  },
  {
   "cell_type": "code",
   "execution_count": 2,
   "metadata": {},
   "outputs": [
    {
     "name": "stdout",
     "output_type": "stream",
     "text": [
      "True\n",
      "True\n",
      "True\n",
      "True\n",
      "True\n",
      "True\n",
      "True\n",
      "True\n",
      "True\n",
      "True\n",
      "True\n",
      "True\n",
      "True\n",
      "True\n",
      "True\n"
     ]
    }
   ],
   "source": [
    "print(parse_roman('I')==1)\n",
    "print(parse_roman('II')==2)\n",
    "print(parse_roman('IV')==4)\n",
    "print(parse_roman('V')==5)\n",
    "print(parse_roman('VI')==6)\n",
    "print(parse_roman('IX')==9)\n",
    "print(parse_roman('X')==10)\n",
    "print(parse_roman('XIV')==14)\n",
    "print(parse_roman('L')==50)\n",
    "print(parse_roman('C')==100)\n",
    "print(parse_roman('D')==500)\n",
    "print(parse_roman('M')==1000)\n",
    "print(parse_roman('XL')==40)\n",
    "print(parse_roman('LX')==60)\n",
    "print(parse_roman('XCIV')==94)"
   ]
  },
  {
   "cell_type": "code",
   "execution_count": null,
   "metadata": {},
   "outputs": [],
   "source": []
  }
 ],
 "metadata": {
  "kernelspec": {
   "display_name": "Python 3",
   "language": "python",
   "name": "python3"
  },
  "language_info": {
   "codemirror_mode": {
    "name": "ipython",
    "version": 3
   },
   "file_extension": ".py",
   "mimetype": "text/x-python",
   "name": "python",
   "nbconvert_exporter": "python",
   "pygments_lexer": "ipython3",
   "version": "3.7.1"
  }
 },
 "nbformat": 4,
 "nbformat_minor": 2
}
