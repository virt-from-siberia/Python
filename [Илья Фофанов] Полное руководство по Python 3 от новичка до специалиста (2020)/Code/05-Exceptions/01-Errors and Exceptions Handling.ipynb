{
 "cells": [
  {
   "cell_type": "code",
   "execution_count": 1,
   "metadata": {},
   "outputs": [],
   "source": [
    "#ошибки в любом случае случаются\n",
    "#баги \n",
    "#ошибки из-за неправильного использования объектов\n",
    "#->необходима обработка ошибок\n",
    "#без обработки ошибок скрипт сразу останавливается\n",
    "\n"
   ]
  },
  {
   "cell_type": "code",
   "execution_count": 22,
   "metadata": {},
   "outputs": [
    {
     "data": {
      "text/plain": [
       "2.0"
      ]
     },
     "execution_count": 22,
     "metadata": {},
     "output_type": "execute_result"
    }
   ],
   "source": [
    "def divide(a, b):\n",
    "    try:\n",
    "        return a / b\n",
    "    #except ZeroDivisionError as ex:\n",
    "    #    print(f'an error occured: {ex}')\n",
    "    #except:\n",
    "    #    print(f'unknown error occured!')\n",
    "divide(4, 2)"
   ]
  },
  {
   "cell_type": "code",
   "execution_count": 23,
   "metadata": {},
   "outputs": [
    {
     "name": "stdout",
     "output_type": "stream",
     "text": [
      "unknown error occured!\n"
     ]
    }
   ],
   "source": [
    "divide(2, 0)"
   ]
  },
  {
   "cell_type": "code",
   "execution_count": 24,
   "metadata": {},
   "outputs": [
    {
     "name": "stdout",
     "output_type": "stream",
     "text": [
      "df\n",
      "unknown error occured!\n"
     ]
    }
   ],
   "source": [
    "#after excepting ZeroDivisionError I'm going to be smarter and pass\n",
    "#incompatible args, hahaha!\n",
    "divider = input()\n",
    "divide(4, divider)\n",
    "\n",
    "#general except block"
   ]
  },
  {
   "cell_type": "code",
   "execution_count": null,
   "metadata": {},
   "outputs": [],
   "source": [
    "file = open(r'C:\\tmp\\abracadabra.txt')\n",
    "try:\n",
    "    data = file.read()\n",
    "finally:\n",
    "    file.close()"
   ]
  },
  {
   "cell_type": "code",
   "execution_count": 9,
   "metadata": {},
   "outputs": [
    {
     "name": "stdout",
     "output_type": "stream",
     "text": [
      "maybe else\n",
      "doing some work here\n"
     ]
    }
   ],
   "source": [
    "file = None\n",
    "try:\n",
    "    open(r'C:\\tmp\\abracadabra.txt')\n",
    "    data = file.read()\n",
    "except FileNotFoundError as ex: #speak about different types of errors\n",
    "    print(f'Error has occured. Description:{ex.strerror}')\n",
    "else:\n",
    "    print('maybe else') #executes if try succeeded or execption was not excepted\n",
    "finally:\n",
    "    if file:\n",
    "        file.close()\n",
    "        \n",
    "print('doing some work here')"
   ]
  },
  {
   "cell_type": "code",
   "execution_count": null,
   "metadata": {},
   "outputs": [],
   "source": [
    "def get_int():\n",
    "    while True:\n",
    "        try:\n",
    "            reply = int(input('Enter a number...'))\n",
    "        except:\n",
    "            print('Not a number! Try again.')\n",
    "            continue            \n",
    "            \n",
    "get_int()"
   ]
  }
 ],
 "metadata": {
  "kernelspec": {
   "display_name": "Python 3",
   "language": "python",
   "name": "python3"
  },
  "language_info": {
   "codemirror_mode": {
    "name": "ipython",
    "version": 3
   },
   "file_extension": ".py",
   "mimetype": "text/x-python",
   "name": "python",
   "nbconvert_exporter": "python",
   "pygments_lexer": "ipython3",
   "version": "3.7.1"
  }
 },
 "nbformat": 4,
 "nbformat_minor": 2
}
