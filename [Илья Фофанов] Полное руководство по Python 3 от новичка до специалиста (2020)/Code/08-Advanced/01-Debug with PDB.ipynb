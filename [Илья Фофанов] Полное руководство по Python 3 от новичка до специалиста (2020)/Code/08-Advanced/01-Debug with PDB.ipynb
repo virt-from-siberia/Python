{
 "cells": [
  {
   "cell_type": "code",
   "execution_count": 2,
   "metadata": {},
   "outputs": [
    {
     "name": "stdout",
     "output_type": "stream",
     "text": [
      "--Return--\n",
      "> <ipython-input-2-fb8d86feb492>(6)<module>()->None\n",
      "-> pdb.set_trace()\n",
      "(Pdb) x\n",
      "1\n",
      "(Pdb) y\n",
      "2\n",
      "(Pdb) z\n",
      "*** NameError: name 'z' is not defined\n",
      "(Pdb) c\n",
      "--Return--\n",
      "> <ipython-input-2-fb8d86feb492>(10)<module>()->None\n",
      "-> pdb.set_trace()\n",
      "(Pdb) z\n",
      "3\n",
      "(Pdb) c\n",
      "final\n"
     ]
    }
   ],
   "source": [
    "import pdb\n",
    "\n",
    "x = 1\n",
    "y = 2\n",
    "\n",
    "pdb.set_trace()\n",
    "\n",
    "z = 3\n",
    "\n",
    "pdb.set_trace()\n",
    "\n",
    "print('final')"
   ]
  },
  {
   "cell_type": "markdown",
   "metadata": {},
   "source": [
    "# main commands"
   ]
  },
  {
   "cell_type": "markdown",
   "metadata": {},
   "source": [
    "- c(ontinue) - execute until the next break point is reached\n",
    "- n(ext) - go to next instruction (enter into sub-calls)\n",
    "- s(tep) - go to next instruction (do not enter sub-calls)\n",
    "- q(uit) - stop the debugger"
   ]
  },
  {
   "cell_type": "code",
   "execution_count": null,
   "metadata": {},
   "outputs": [],
   "source": []
  }
 ],
 "metadata": {
  "kernelspec": {
   "display_name": "Python 3",
   "language": "python",
   "name": "python3"
  },
  "language_info": {
   "codemirror_mode": {
    "name": "ipython",
    "version": 3
   },
   "file_extension": ".py",
   "mimetype": "text/x-python",
   "name": "python",
   "nbconvert_exporter": "python",
   "pygments_lexer": "ipython3",
   "version": "3.7.1"
  }
 },
 "nbformat": 4,
 "nbformat_minor": 2
}
